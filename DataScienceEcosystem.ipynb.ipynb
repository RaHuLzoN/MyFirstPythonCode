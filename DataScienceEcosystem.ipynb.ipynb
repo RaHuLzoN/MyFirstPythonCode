{
 "cells": [
  {
   "cell_type": "markdown",
   "id": "d6e9d804",
   "metadata": {},
   "source": [
    "# Data Science Tools And Ecosystem\n",
    "\n"
   ]
  },
  {
   "cell_type": "markdown",
   "id": "640a5592",
   "metadata": {},
   "source": [
    "In This Notebook,\n",
    "Data Science Ecosystem are summarized."
   ]
  },
  {
   "cell_type": "markdown",
   "id": "cda75603",
   "metadata": {},
   "source": [
    "Some of the popular languages That Data Scientists use are :\n",
    "1. Python\n",
    "2. R\n",
    "3. SQL\n",
    "4. Scala\n",
    "5. Java\n",
    "6. C++\n",
    "7. Julia\n",
    "8. Javascript\n",
    "\n"
   ]
  },
  {
   "cell_type": "markdown",
   "id": "51c289dc",
   "metadata": {},
   "source": [
    "Some of the most commonly used labraries used by Data Scientists incude :\n",
    "1. Scikit-learn\n",
    "2. TensorFlow\n",
    "3. Apache Spark \n",
    "4. Pandas\n",
    "5. Numpy\n",
    "6. Matplotlib\n",
    "7. Seaborn\n",
    "8. Keras\n",
    "9. PyTorch\n",
    "10. ggplot2\n",
    "11. dplyr\n",
    "12. Caret\n"
   ]
  },
  {
   "cell_type": "markdown",
   "id": "cf968f40",
   "metadata": {},
   "source": [
    "Table Of Data Science Tools\n",
    "|Data Science Tools|\n",
    "| ________________ |\n",
    "|RStudio|\n",
    "|Apache Spark|\n",
    "|TensorFlow|\n",
    "|Apache Hadoop|\n",
    "|RapidMiner|\n"
   ]
  },
  {
   "cell_type": "markdown",
   "id": "626ad8cd",
   "metadata": {},
   "source": [
    "### Below are a few example of evaluating arithmetic expression In Python\n"
   ]
  },
  {
   "cell_type": "code",
   "execution_count": 5,
   "id": "d5bccc3a",
   "metadata": {},
   "outputs": [
    {
     "data": {
      "text/plain": [
       "17"
      ]
     },
     "execution_count": 5,
     "metadata": {},
     "output_type": "execute_result"
    }
   ],
   "source": [
    "(3*4)+5\n",
    "# This is a simple artimetic expression to multiply then add integers"
   ]
  },
  {
   "cell_type": "code",
   "execution_count": 6,
   "id": "e09ed4c6",
   "metadata": {},
   "outputs": [
    {
     "data": {
      "text/plain": [
       "3.3333333333333335"
      ]
     },
     "execution_count": 6,
     "metadata": {},
     "output_type": "execute_result"
    }
   ],
   "source": [
    "200/60\n",
    "# This will convert 200 minutes to hours by diving by 60  "
   ]
  },
  {
   "cell_type": "markdown",
   "id": "cbc76d3f",
   "metadata": {},
   "source": [
    "**Objective**\n",
    "\n",
    "- Some Of Popular Languages For Data Science\n",
    "- Some Of Most Commonly Libraries Used By Data Scientists\n",
    "- Table Of Data Science Tools \n",
    "- Simple Arithmetic Expression \n",
    "- Coverting Minutes To Hours\n",
    "\n"
   ]
  },
  {
   "cell_type": "markdown",
   "id": "45dc70ec",
   "metadata": {},
   "source": [
    "## Author\n",
    "Rahul Saroj "
   ]
  },
  {
   "cell_type": "code",
   "execution_count": null,
   "id": "9a4200ce",
   "metadata": {},
   "outputs": [],
   "source": []
  }
 ],
 "metadata": {
  "kernelspec": {
   "display_name": "Python 3 (ipykernel)",
   "language": "python",
   "name": "python3"
  },
  "language_info": {
   "codemirror_mode": {
    "name": "ipython",
    "version": 3
   },
   "file_extension": ".py",
   "mimetype": "text/x-python",
   "name": "python",
   "nbconvert_exporter": "python",
   "pygments_lexer": "ipython3",
   "version": "3.9.12"
  }
 },
 "nbformat": 4,
 "nbformat_minor": 5
}
